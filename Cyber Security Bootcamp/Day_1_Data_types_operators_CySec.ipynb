{
  "nbformat": 4,
  "nbformat_minor": 0,
  "metadata": {
    "colab": {
      "name": "Day_1_Data_types_operators_CySec.ipynb",
      "provenance": []
    },
    "kernelspec": {
      "name": "python3",
      "display_name": "Python 3"
    },
    "language_info": {
      "name": "python"
    }
  },
  "cells": [
    {
      "cell_type": "markdown",
      "metadata": {
        "id": "BhDCXU7vSP3-"
      },
      "source": [
        "# **Data Types and Operators**\n",
        "**Welcome to this lesson on Data Types and Operators! You'll learn about:** \n",
        "\n",
        "\n",
        "\n",
        "\n",
        "   * **Data Types:**\n",
        "\n",
        "  Strings, Integers, Floats, Booleans, Lists, Tuples, Sets, Dictionaries\n",
        "\n",
        "* **Operators:**\n",
        "\n",
        "  Arithmetic, Assignment, Comparison, Logical, Membership, Identity\n",
        "\n",
        "* Built-In Functions, Compound Data Structures, Type Conversion\n",
        "\n",
        "\n",
        "\n",
        "# **Strings:**"
      ]
    },
    {
      "cell_type": "code",
      "metadata": {
        "id": "XM8BhvfaRJfz"
      },
      "source": [
        "#String: Enclosed textual data within quotes\n",
        "var_1 = 'Hello World!'\n",
        "var_2 = \"Youtube is Google's video streaming platform\""
      ],
      "execution_count": 14,
      "outputs": []
    },
    {
      "cell_type": "code",
      "metadata": {
        "colab": {
          "base_uri": "https://localhost:8080/"
        },
        "id": "fmL9fDlQWm2S",
        "outputId": "f485d545-05c7-4123-fb0f-58a726c6644c"
      },
      "source": [
        "print(var_1)\n",
        "#Prints the value of variable"
      ],
      "execution_count": 15,
      "outputs": [
        {
          "output_type": "stream",
          "text": [
            "Hello World!\n"
          ],
          "name": "stdout"
        }
      ]
    },
    {
      "cell_type": "code",
      "metadata": {
        "colab": {
          "base_uri": "https://localhost:8080/"
        },
        "id": "h7mJ-4MSWrA3",
        "outputId": "dbed36df-ccd5-428a-8e50-8ddc36229d00"
      },
      "source": [
        "print(len(var_1))\n",
        "#Prints the length of variable"
      ],
      "execution_count": 16,
      "outputs": [
        {
          "output_type": "stream",
          "text": [
            "12\n"
          ],
          "name": "stdout"
        }
      ]
    },
    {
      "cell_type": "code",
      "metadata": {
        "colab": {
          "base_uri": "https://localhost:8080/"
        },
        "id": "B_457tUwWvXW",
        "outputId": "b3fd3748-a99a-42af-ceb1-6bcb6737fd66"
      },
      "source": [
        "#In python, Indexing starts from 0,1,2,3\n",
        "print(var_1[10])\n",
        "#prints character at index 10"
      ],
      "execution_count": 17,
      "outputs": [
        {
          "output_type": "stream",
          "text": [
            "d\n"
          ],
          "name": "stdout"
        }
      ]
    },
    {
      "cell_type": "code",
      "metadata": {
        "colab": {
          "base_uri": "https://localhost:8080/"
        },
        "id": "-qoL9ZAgW0WW",
        "outputId": "7c4834dc-e0c0-4740-fe5c-f0c3091528f2"
      },
      "source": [
        "print(var_1[0:5])\n",
        "#prints character index 0-4 but 5 isn't included"
      ],
      "execution_count": 18,
      "outputs": [
        {
          "output_type": "stream",
          "text": [
            "Hello\n"
          ],
          "name": "stdout"
        }
      ]
    },
    {
      "cell_type": "code",
      "metadata": {
        "colab": {
          "base_uri": "https://localhost:8080/"
        },
        "id": "gRsaPkm1W4G9",
        "outputId": "fc86a4d8-0874-43dc-c37b-522abe151010"
      },
      "source": [
        "\n",
        "print(var_1[6:])\n",
        "#prints character index 6-last index"
      ],
      "execution_count": 19,
      "outputs": [
        {
          "output_type": "stream",
          "text": [
            "World!\n"
          ],
          "name": "stdout"
        }
      ]
    },
    {
      "cell_type": "markdown",
      "metadata": {
        "id": "u_C8oo4ZW58k"
      },
      "source": [
        "\n",
        "**The above operations using square [] brackets is called slicing**"
      ]
    },
    {
      "cell_type": "code",
      "metadata": {
        "colab": {
          "base_uri": "https://localhost:8080/"
        },
        "id": "EmRk1R52XGP9",
        "outputId": "c8c63343-46f1-4540-e77a-560fde31ed2e"
      },
      "source": [
        "print(var_1.lower()) #Prints strings in lower case"
      ],
      "execution_count": 20,
      "outputs": [
        {
          "output_type": "stream",
          "text": [
            "hello world!\n"
          ],
          "name": "stdout"
        }
      ]
    },
    {
      "cell_type": "code",
      "metadata": {
        "colab": {
          "base_uri": "https://localhost:8080/"
        },
        "id": "jsvZfnESXMGW",
        "outputId": "987d017d-87a5-45cb-ec11-2f9a43aa939a"
      },
      "source": [
        "print(var_1.upper()) #Prints strings in upper case"
      ],
      "execution_count": 21,
      "outputs": [
        {
          "output_type": "stream",
          "text": [
            "HELLO WORLD!\n"
          ],
          "name": "stdout"
        }
      ]
    },
    {
      "cell_type": "code",
      "metadata": {
        "colab": {
          "base_uri": "https://localhost:8080/"
        },
        "id": "Y1KdrcuFXVt5",
        "outputId": "f66b04ca-850b-406b-ba8c-6fa647d1b86b"
      },
      "source": [
        "greeting = 'hello'\n",
        "name = 'chirag murari'\n",
        "\n",
        "message_1 = greeting+', '+name+'. Welcome!' #String concatenation\n",
        "message_2 = '{}, {}. Welcome!'.format(greeting,name)\n",
        "\n",
        "print(message_1)\n",
        "print(message_2)"
      ],
      "execution_count": 22,
      "outputs": [
        {
          "output_type": "stream",
          "text": [
            "hello, chirag murari. Welcome!\n",
            "hello, chirag murari. Welcome!\n"
          ],
          "name": "stdout"
        }
      ]
    },
    {
      "cell_type": "markdown",
      "metadata": {
        "id": "9fXhmekJXoYy"
      },
      "source": [
        "Variable Naming Conventions:**\n",
        "There are some rules we need to follow while giving a name for a Python variable.\n",
        "\n",
        "* **Rule-1:**  You should start variable name with an alphabet or underscore(_) character.\n",
        "\n",
        "* **Rule-2:**  A variable name can only contain A-Z,a-z,0-9 and underscore(_).\n",
        "\n",
        "* **Rule-3:**  You cannot start the variable name with a number.\n",
        "\n",
        "* **Rule-4:**  You cannot use special characters with the variable name such as such as $,%,#,&,@.-,^ etc.\n",
        "* **Rule-5:**  Variable names are case sensitive. For example str and Str are two different variables.\n",
        "* **Rule-6:**  Do not use reserve keyword as a variable name for example keywords like class, for, def, del, is, else, try, from, etc. more examples are given below and as we go through the course we will come across many more. Creating names that are descriptive of the values often will help you avoid using any of these words."
      ]
    },
    {
      "cell_type": "code",
      "metadata": {
        "id": "RfWsndT6YMyE"
      },
      "source": [
        "#Allowed variable names\n",
        "\n",
        "x=2\n",
        "y=\"Hello\"\n",
        "mypython=\"PythonGuides\"\n",
        "my_python=\"PythonGuides\"\n",
        "_my_python=\"PythonGuides\"\n",
        "_mypython=\"PythonGuides\"\n",
        "MYPYTHON=\"PythonGuides\"\n",
        "myPython=\"PythonGuides\"\n",
        "myPython7=\"PythonGuides\""
      ],
      "execution_count": 30,
      "outputs": []
    },
    {
      "cell_type": "code",
      "metadata": {
        "colab": {
          "base_uri": "https://localhost:8080/",
          "height": 129
        },
        "id": "h9-eKoBfYRhm",
        "outputId": "265348c1-bd5f-4e63-da89-e73f22678dc1"
      },
      "source": [
        "#Variable name not Allowed\n",
        "\n",
        "7mypython=\"PythonGuides\"\n",
        "-mypython=\"PythonGuides\"\n",
        "myPy@thon=\"PythonGuides\"\n",
        "my Python=\"PythonGuides\"\n",
        "for=\"PythonGuides\"\n",
        "\n",
        "#It shows invalid syntax. \n",
        "#It will execute one by one and will show the error."
      ],
      "execution_count": 24,
      "outputs": [
        {
          "output_type": "error",
          "ename": "SyntaxError",
          "evalue": "ignored",
          "traceback": [
            "\u001b[0;36m  File \u001b[0;32m\"<ipython-input-24-23d4199b4438>\"\u001b[0;36m, line \u001b[0;32m3\u001b[0m\n\u001b[0;31m    7mypython=\"PythonGuides\"\u001b[0m\n\u001b[0m            ^\u001b[0m\n\u001b[0;31mSyntaxError\u001b[0m\u001b[0;31m:\u001b[0m invalid syntax\n"
          ]
        }
      ]
    },
    {
      "cell_type": "markdown",
      "metadata": {
        "id": "7OZ67TnvYyde"
      },
      "source": [
        "# **Integers and Floats:**\n",
        "**Working with numeric data**\n",
        "\n",
        "**Arithmetic Operators:**\n",
        "\n",
        "**Addition: 7+5**\n",
        "\n",
        "**Subtraction: 7-5**\n",
        "\n",
        "**Multiplication: 7*5**\n",
        "\n",
        "**Division: 7/5**\n",
        "\n",
        "**Floor Division: 7//5 -> Drops decimal value**\n",
        "\n",
        "**Exponent: 7**  ** **5** \n",
        "\n",
        "**Modulus: 7%5**"
      ]
    },
    {
      "cell_type": "code",
      "metadata": {
        "colab": {
          "base_uri": "https://localhost:8080/"
        },
        "id": "gpYR78a2amec",
        "outputId": "166107a2-37f4-456b-8a39-dc5a44737113"
      },
      "source": [
        "abs(-11) #Returns absolute value of integer data"
      ],
      "execution_count": 25,
      "outputs": [
        {
          "output_type": "execute_result",
          "data": {
            "text/plain": [
              "11"
            ]
          },
          "metadata": {
            "tags": []
          },
          "execution_count": 25
        }
      ]
    },
    {
      "cell_type": "code",
      "metadata": {
        "colab": {
          "base_uri": "https://localhost:8080/"
        },
        "id": "kB7oJkoDap3Z",
        "outputId": "639b1129-50b5-47ef-c777-f66808104973"
      },
      "source": [
        "num = 1\n",
        "num = num+1\n",
        "num += 1\n",
        "print(num)"
      ],
      "execution_count": 26,
      "outputs": [
        {
          "output_type": "stream",
          "text": [
            "3\n"
          ],
          "name": "stdout"
        }
      ]
    },
    {
      "cell_type": "code",
      "metadata": {
        "colab": {
          "base_uri": "https://localhost:8080/"
        },
        "id": "JGwqC0ZqasO_",
        "outputId": "65ccd692-b6e2-4684-d998-24863dce795f"
      },
      "source": [
        "round(8.63) # round to nearest integer"
      ],
      "execution_count": 27,
      "outputs": [
        {
          "output_type": "execute_result",
          "data": {
            "text/plain": [
              "9"
            ]
          },
          "metadata": {
            "tags": []
          },
          "execution_count": 27
        }
      ]
    },
    {
      "cell_type": "code",
      "metadata": {
        "colab": {
          "base_uri": "https://localhost:8080/"
        },
        "id": "y2RnzZnzavk7",
        "outputId": "447222a8-aa6e-4432-c8b6-73b81f972e53"
      },
      "source": [
        "round(8.63,1) #rounds till first decimal point"
      ],
      "execution_count": 28,
      "outputs": [
        {
          "output_type": "execute_result",
          "data": {
            "text/plain": [
              "8.6"
            ]
          },
          "metadata": {
            "tags": []
          },
          "execution_count": 28
        }
      ]
    },
    {
      "cell_type": "markdown",
      "metadata": {
        "id": "XVB_AXHOa2N0"
      },
      "source": [
        "# **Comparison Operators:**\n",
        "**Equal: 7==5**\n",
        "\n",
        "**Not Equal: 7!=5**\n",
        "\n",
        "**Greater than: 7>5**\n",
        "\n",
        "**Less than: 7<5**\n",
        "\n",
        "**Greater or Equal: 7>=5**\n",
        "\n",
        "**Less or Equal: 7<=5**"
      ]
    },
    {
      "cell_type": "code",
      "metadata": {
        "colab": {
          "base_uri": "https://localhost:8080/"
        },
        "id": "QyjD_RjabOyJ",
        "outputId": "c9d73d9e-04c6-4cd1-c949-b416c8b0959b"
      },
      "source": [
        "num_1 = 7\n",
        "num_2 = 5\n",
        "print(num_1 == num_2)"
      ],
      "execution_count": 29,
      "outputs": [
        {
          "output_type": "stream",
          "text": [
            "False\n"
          ],
          "name": "stdout"
        }
      ]
    }
  ]
}
