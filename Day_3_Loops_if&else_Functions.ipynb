{
  "nbformat": 4,
  "nbformat_minor": 0,
  "metadata": {
    "colab": {
      "name": "Day_3_Loops_if&else_Functions.ipynb",
      "provenance": []
    },
    "kernelspec": {
      "name": "python3",
      "display_name": "Python 3"
    },
    "language_info": {
      "name": "python"
    }
  },
  "cells": [
    {
      "cell_type": "markdown",
      "metadata": {
        "id": "hFg1rso0qrFx"
      },
      "source": [
        "\n",
        "# **Control Flow:**\n",
        "**Welcome to this lesson on Control Flow! Control flow is the sequence in which your code is run helping you in decision making.Here, we'll learn about several tools in Python we can use to affect our code's control flow:**\n",
        "\n",
        "* Conditional Statements\n",
        "* Boolean Expressions\n",
        "* For and While Loops\n",
        "* Break and Continue\n",
        "* Zip and Enumerate\n",
        "* List Comprehensions\n",
        "\n",
        "**Comparisons operators:**\n",
        "\n",
        "* Equal: ==\n",
        "* Not Equal: !=\n",
        "* Greater than: >\n",
        "* Less than: <\n",
        "* Greater or equal: >=\n",
        "* Less or equal: <=\n",
        "* Object Identity: is - Checks weather two elements are same object and memory"
      ]
    },
    {
      "cell_type": "code",
      "metadata": {
        "colab": {
          "base_uri": "https://localhost:8080/"
        },
        "id": "BZV1i3OOr-Lf",
        "outputId": "4a0f3b8b-7cdf-4c2f-81df-f2ae7b142926"
      },
      "source": [
        "lang = 'Java'\n",
        "\n",
        "if lang == 'Python':\n",
        "    print('Language is Python')\n",
        "elif lang == 'Java':\n",
        "    print('Language is Java')\n",
        "else:\n",
        "    print('No match')"
      ],
      "execution_count": 1,
      "outputs": [
        {
          "output_type": "stream",
          "text": [
            "Language is Java\n"
          ],
          "name": "stdout"
        }
      ]
    },
    {
      "cell_type": "code",
      "metadata": {
        "colab": {
          "base_uri": "https://localhost:8080/"
        },
        "id": "7lc_4RU0poko",
        "outputId": "61643474-ee71-463d-fdcc-3ffa83df1b98"
      },
      "source": [
        "#and,or & not:\n",
        "\n",
        "user = 'Admin'\n",
        "logged_in = False\n",
        "\n",
        "if user == 'Admin' and logged_in:\n",
        "    print('Admin page')\n",
        "else:\n",
        "    print('Bad creds')"
      ],
      "execution_count": 2,
      "outputs": [
        {
          "output_type": "stream",
          "text": [
            "Bad creds\n"
          ],
          "name": "stdout"
        }
      ]
    },
    {
      "cell_type": "code",
      "metadata": {
        "colab": {
          "base_uri": "https://localhost:8080/"
        },
        "id": "Vpq2R5df1bUf",
        "outputId": "1ded777d-6a55-4ed7-e335-978525f11028"
      },
      "source": [
        "user = 'Admin'\n",
        "logged_in = True\n",
        "\n",
        "if user == 'Admin' or logged_in:\n",
        "    print('Admin page')\n",
        "else:\n",
        "    print('Bad creds')"
      ],
      "execution_count": 3,
      "outputs": [
        {
          "output_type": "stream",
          "text": [
            "Admin page\n"
          ],
          "name": "stdout"
        }
      ]
    },
    {
      "cell_type": "code",
      "metadata": {
        "colab": {
          "base_uri": "https://localhost:8080/"
        },
        "id": "rdHIuCx01fNU",
        "outputId": "bc01a98d-5326-4e12-fdb3-9236610c7213"
      },
      "source": [
        "a = [1,2,3]\n",
        "b = [1,2,3]\n",
        "\n",
        "print(a == b)"
      ],
      "execution_count": 4,
      "outputs": [
        {
          "output_type": "stream",
          "text": [
            "True\n"
          ],
          "name": "stdout"
        }
      ]
    },
    {
      "cell_type": "code",
      "metadata": {
        "colab": {
          "base_uri": "https://localhost:8080/"
        },
        "id": "ZRCFV13p2Jop",
        "outputId": "62487351-a569-47dd-91a3-81b738c116ac"
      },
      "source": [
        "a = [1,2,3]\n",
        "b = [1,2,3]\n",
        "\n",
        "print(id(a))\n",
        "print(id(b))\n",
        "print(id(a)==id(b))\n",
        "print(a is b)"
      ],
      "execution_count": 5,
      "outputs": [
        {
          "output_type": "stream",
          "text": [
            "140249528323360\n",
            "140249528440384\n",
            "False\n",
            "False\n"
          ],
          "name": "stdout"
        }
      ]
    },
    {
      "cell_type": "markdown",
      "metadata": {
        "id": "W77Cvt2e2QPz"
      },
      "source": [
        "**False values:**\n",
        "\n",
        "False\n",
        "\n",
        "None\n",
        "\n",
        "Numerical Zero\n",
        "\n",
        "Any empty sequence. Eg: '', (), []\n",
        "\n",
        "Any empty mapping. Eg: {}"
      ]
    },
    {
      "cell_type": "code",
      "metadata": {
        "colab": {
          "base_uri": "https://localhost:8080/"
        },
        "id": "gnAjCCn72NoP",
        "outputId": "a6f37eae-a219-4e35-99d8-031943a08399"
      },
      "source": [
        "condition = 2\n",
        "\n",
        "if condition:\n",
        "    print('Evaluated to True')\n",
        "else:\n",
        "    print('Evaluated to False')"
      ],
      "execution_count": 6,
      "outputs": [
        {
          "output_type": "stream",
          "text": [
            "Evaluated to True\n"
          ],
          "name": "stdout"
        }
      ]
    },
    {
      "cell_type": "markdown",
      "metadata": {
        "id": "58VCWtVv3RG6"
      },
      "source": [
        "**Loops & Iterations - for/while loops:**"
      ]
    },
    {
      "cell_type": "code",
      "metadata": {
        "id": "onsAY82M3ZKc"
      },
      "source": [
        "nums = [1,2,3,4,5]"
      ],
      "execution_count": 7,
      "outputs": []
    },
    {
      "cell_type": "code",
      "metadata": {
        "colab": {
          "base_uri": "https://localhost:8080/"
        },
        "id": "a7tNZTiN3g-_",
        "outputId": "135fbcab-c54a-4bf5-b4e7-73947559fdef"
      },
      "source": [
        "for num in nums:\n",
        "    print(num)\n",
        "\n",
        "#Iterates and returns each item using loop"
      ],
      "execution_count": 8,
      "outputs": [
        {
          "output_type": "stream",
          "text": [
            "1\n",
            "2\n",
            "3\n",
            "4\n",
            "5\n"
          ],
          "name": "stdout"
        }
      ]
    },
    {
      "cell_type": "code",
      "metadata": {
        "colab": {
          "base_uri": "https://localhost:8080/"
        },
        "id": "2VJlSIvV3mz-",
        "outputId": "fbe7536a-2db2-493c-d614-7a2bdbb11cfa"
      },
      "source": [
        "for num in nums:\n",
        "    if num == 3:\n",
        "        print('Found!')\n",
        "        break\n",
        "    print(num)\n",
        "    \n",
        "#Breaks out of loop if the item is found"
      ],
      "execution_count": 9,
      "outputs": [
        {
          "output_type": "stream",
          "text": [
            "1\n",
            "2\n",
            "Found!\n"
          ],
          "name": "stdout"
        }
      ]
    },
    {
      "cell_type": "code",
      "metadata": {
        "colab": {
          "base_uri": "https://localhost:8080/"
        },
        "id": "pMXijmKo3r0A",
        "outputId": "551090b8-3544-40f8-99e8-8e845040638c"
      },
      "source": [
        "for num in nums:\n",
        "    if num == 3:\n",
        "        print('Found!')\n",
        "        continue\n",
        "    print(num)\n",
        "    \n",
        "#Breaks out of loop if the item is found"
      ],
      "execution_count": 10,
      "outputs": [
        {
          "output_type": "stream",
          "text": [
            "1\n",
            "2\n",
            "Found!\n",
            "4\n",
            "5\n"
          ],
          "name": "stdout"
        }
      ]
    },
    {
      "cell_type": "code",
      "metadata": {
        "colab": {
          "base_uri": "https://localhost:8080/"
        },
        "id": "GEZmpUms3vZy",
        "outputId": "b9b18f8e-f8de-48d6-ea71-78cd37dfbb40"
      },
      "source": [
        "for num in nums:\n",
        "    for letter in 'abc':\n",
        "        print(num,letter)\n",
        "\n",
        "#Nested loop - Loop within a loop"
      ],
      "execution_count": 11,
      "outputs": [
        {
          "output_type": "stream",
          "text": [
            "1 a\n",
            "1 b\n",
            "1 c\n",
            "2 a\n",
            "2 b\n",
            "2 c\n",
            "3 a\n",
            "3 b\n",
            "3 c\n",
            "4 a\n",
            "4 b\n",
            "4 c\n",
            "5 a\n",
            "5 b\n",
            "5 c\n"
          ],
          "name": "stdout"
        }
      ]
    },
    {
      "cell_type": "code",
      "metadata": {
        "colab": {
          "base_uri": "https://localhost:8080/"
        },
        "id": "3reY6BaM3zkp",
        "outputId": "6a2c61e4-b283-4dc4-eb91-050c9f7ff9ae"
      },
      "source": [
        "for i in range(10):\n",
        "    print(i)\n",
        "\n",
        "#prints 0-9"
      ],
      "execution_count": 12,
      "outputs": [
        {
          "output_type": "stream",
          "text": [
            "0\n",
            "1\n",
            "2\n",
            "3\n",
            "4\n",
            "5\n",
            "6\n",
            "7\n",
            "8\n",
            "9\n"
          ],
          "name": "stdout"
        }
      ]
    },
    {
      "cell_type": "code",
      "metadata": {
        "colab": {
          "base_uri": "https://localhost:8080/"
        },
        "id": "jx6U_EGp33iZ",
        "outputId": "b1217e6a-dd11-4b39-9acc-eea38bbab8f7"
      },
      "source": [
        "for i in range(1,11):\n",
        "    print(i)\n",
        "#prints 1-10, taking one step at a moment"
      ],
      "execution_count": 13,
      "outputs": [
        {
          "output_type": "stream",
          "text": [
            "1\n",
            "2\n",
            "3\n",
            "4\n",
            "5\n",
            "6\n",
            "7\n",
            "8\n",
            "9\n",
            "10\n"
          ],
          "name": "stdout"
        }
      ]
    },
    {
      "cell_type": "code",
      "metadata": {
        "colab": {
          "base_uri": "https://localhost:8080/"
        },
        "id": "Hkagnswj4bKh",
        "outputId": "6a099da0-bf9d-4160-dbf0-3b0b60550cb8"
      },
      "source": [
        "for i in range(1,21,2):\n",
        "    print(i)\n",
        "#prints 1-19, skipping a value after each iteration"
      ],
      "execution_count": 14,
      "outputs": [
        {
          "output_type": "stream",
          "text": [
            "1\n",
            "3\n",
            "5\n",
            "7\n",
            "9\n",
            "11\n",
            "13\n",
            "15\n",
            "17\n",
            "19\n"
          ],
          "name": "stdout"
        }
      ]
    },
    {
      "cell_type": "code",
      "metadata": {
        "colab": {
          "base_uri": "https://localhost:8080/"
        },
        "id": "lgdTjZPF4f41",
        "outputId": "1c16c9ee-aecf-428e-a9bf-fd669166adf1"
      },
      "source": [
        "### While loop:\n",
        "x = 0\n",
        "\n",
        "while x < 10:\n",
        "    print(x)\n",
        "    x += 1\n"
      ],
      "execution_count": 19,
      "outputs": [
        {
          "output_type": "stream",
          "text": [
            "0\n",
            "1\n",
            "2\n",
            "3\n",
            "4\n",
            "5\n",
            "6\n",
            "7\n",
            "8\n",
            "9\n"
          ],
          "name": "stdout"
        }
      ]
    },
    {
      "cell_type": "markdown",
      "metadata": {
        "id": "K_u5ooN046QR"
      },
      "source": [
        "\n",
        "# **Functions:**"
      ]
    },
    {
      "cell_type": "code",
      "metadata": {
        "id": "maMB-Wcw43S9"
      },
      "source": [
        "def hello_func():\n",
        "    pass\n",
        "\n",
        "#pass keywords avoid errors if we want to leave that function for a while \n",
        "#Paranthesis () is where we pass the parameters"
      ],
      "execution_count": 20,
      "outputs": []
    },
    {
      "cell_type": "code",
      "metadata": {
        "id": "_0cJohw55EUB"
      },
      "source": [
        "hello_func() # to run the function"
      ],
      "execution_count": 21,
      "outputs": []
    },
    {
      "cell_type": "code",
      "metadata": {
        "colab": {
          "base_uri": "https://localhost:8080/"
        },
        "id": "ebZQW1sX5IAM",
        "outputId": "ba12787c-6bda-4c34-b162-6f402ec51fa6"
      },
      "source": [
        "def hello_func():\n",
        "    print('Hello Function!')\n",
        "hello_func()"
      ],
      "execution_count": 22,
      "outputs": [
        {
          "output_type": "stream",
          "text": [
            "Hello Function!\n"
          ],
          "name": "stdout"
        }
      ]
    },
    {
      "cell_type": "markdown",
      "metadata": {
        "id": "WRxXdZmV5MUd"
      },
      "source": [
        "**Functions allows to reuse the code just like variable.**\n",
        "\n",
        "**Works as a machine, we give input to get the desirable output**"
      ]
    },
    {
      "cell_type": "code",
      "metadata": {
        "colab": {
          "base_uri": "https://localhost:8080/"
        },
        "id": "L2aWAb9j5ZR1",
        "outputId": "58916fbb-1f32-4187-f8dd-375f74e721b8"
      },
      "source": [
        "def hello_func():\n",
        "    return 'Hello Function!'\n",
        "hello_func()\n",
        "\n",
        "#When we executes the function, then it's equivalent to the return value\n",
        "#As the return value is a string, then we can use string methods with the function\n",
        "\n",
        "print(hello_func().upper())"
      ],
      "execution_count": 23,
      "outputs": [
        {
          "output_type": "stream",
          "text": [
            "HELLO FUNCTION!\n"
          ],
          "name": "stdout"
        }
      ]
    },
    {
      "cell_type": "code",
      "metadata": {
        "colab": {
          "base_uri": "https://localhost:8080/"
        },
        "id": "rbsRCq8H5foT",
        "outputId": "338bf796-3eeb-4fcd-d92d-b8993ba7ad76"
      },
      "source": [
        "# Passing an argument/parameter to the function.\n",
        "\n",
        "def hello_func(greeting):\n",
        "    return '{} Function!'.format(greeting)\n",
        "print(hello_func('Hi'))\n",
        "\n",
        "# greeting variable doesn't affect any variable outside the function. It's scope is local to this function\n",
        "# You can define a variable named greeting, outside the function."
      ],
      "execution_count": 24,
      "outputs": [
        {
          "output_type": "stream",
          "text": [
            "Hi Function!\n"
          ],
          "name": "stdout"
        }
      ]
    },
    {
      "cell_type": "code",
      "metadata": {
        "colab": {
          "base_uri": "https://localhost:8080/"
        },
        "id": "CYCvgb0S5jCJ",
        "outputId": "b7ac280f-72d8-422a-ec5d-25726f9c56c4"
      },
      "source": [
        "#Passing two parameters and default values\n",
        "\n",
        "def hello_func(greeting,name='You'):\n",
        "    return '{}, {}!'.format(greeting, name)\n",
        "\n",
        "print(hello_func('Hi','chirag'))\n",
        "\n",
        "#You is default value for name parameter"
      ],
      "execution_count": 26,
      "outputs": [
        {
          "output_type": "stream",
          "text": [
            "Hi, chirag!\n"
          ],
          "name": "stdout"
        }
      ]
    },
    {
      "cell_type": "code",
      "metadata": {
        "colab": {
          "base_uri": "https://localhost:8080/"
        },
        "id": "SizO3N5c5jOY",
        "outputId": "4fcbd577-a4e5-413c-fe31-bd0edc821a04"
      },
      "source": [
        "# Use it when you aren't sure about the numbers of arguments(args) and keyword arguments (kwargs)\n",
        "# args - arguments\n",
        "# kwargs - Keyword arguments\n",
        "\n",
        "def student_info(*args, **kwargs):\n",
        "    print(args)\n",
        "    print(kwargs)\n",
        "\n",
        "print(student_info('Math', 'Art', name = 'chirag', age = '21'))"
      ],
      "execution_count": 27,
      "outputs": [
        {
          "output_type": "stream",
          "text": [
            "('Math', 'Art')\n",
            "{'name': 'chirag', 'age': '21'}\n",
            "None\n"
          ],
          "name": "stdout"
        }
      ]
    },
    {
      "cell_type": "code",
      "metadata": {
        "colab": {
          "base_uri": "https://localhost:8080/"
        },
        "id": "D31VFEer5yUc",
        "outputId": "decf6c8c-ade7-480a-b9e8-18b8c8c0b5fd"
      },
      "source": [
        "\n",
        "# Use it when you aren't sure about the numbers of arguments(args) and keyword arguments (kwargs)\n",
        "# args - arguments\n",
        "# kwargs - Keyword arguments\n",
        "\n",
        "def student_info(*args, **kwargs):\n",
        "    print(args)\n",
        "    print(kwargs)\n",
        "\n",
        "courses = ['Math','Art']\n",
        "info = {'name':'chirag', 'age':'21'}\n",
        "\n",
        "print(student_info(courses,info))"
      ],
      "execution_count": 28,
      "outputs": [
        {
          "output_type": "stream",
          "text": [
            "(['Math', 'Art'], {'name': 'chirag', 'age': '21'})\n",
            "{}\n",
            "None\n"
          ],
          "name": "stdout"
        }
      ]
    },
    {
      "cell_type": "markdown",
      "metadata": {
        "id": "S3j73oy55-YS"
      },
      "source": [
        " <b>*&** ** **is added to differentiate b/w arguments and keyword arguments<b>\n",
        "\n",
        "# **Let's put everything together and create a program to check if a year is leap or not**"
      ]
    },
    {
      "cell_type": "code",
      "metadata": {
        "colab": {
          "base_uri": "https://localhost:8080/"
        },
        "id": "BhYHuAil54Om",
        "outputId": "a1c8f895-dab3-4e6d-cc94-57454dbd59ac"
      },
      "source": [
        "def month_ui(year,month):\n",
        "\n",
        "    leap=0\n",
        "    if year % 400 == 0:\n",
        "        leap=1\n",
        "    elif year % 100 == 0:\n",
        "        leap = 0\n",
        "    elif year % 4 == 0:\n",
        "        leap = 1\n",
        "    if month == 2:\n",
        "        return 28 + leap\n",
        "    month_list = [1,3,5,7,8,10,12]\n",
        "    if month in month_list:\n",
        "        return 31\n",
        "    else:\n",
        "        return 30\n",
        "\n",
        "\n",
        "\n",
        "year = 2020\n",
        "month = 2\n",
        "print(month_ui(year,month))"
      ],
      "execution_count": 29,
      "outputs": [
        {
          "output_type": "stream",
          "text": [
            "29\n"
          ],
          "name": "stdout"
        }
      ]
    }
  ]
}
